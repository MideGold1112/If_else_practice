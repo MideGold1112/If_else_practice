{
 "cells": [
  {
   "cell_type": "code",
   "execution_count": 1,
   "id": "1f8280bd",
   "metadata": {},
   "outputs": [
    {
     "name": "stdout",
     "output_type": "stream",
     "text": [
      "Enter your number to check for even or odd:22\n",
      "the number is odd\n"
     ]
    }
   ],
   "source": [
    "number = int(input('Enter your number to check for even or odd:'))\n",
    "if number % 8 == 0:\n",
    "   print('the number is even')\n",
    "else: \n",
    "    print('the number is odd')    "
   ]
  },
  {
   "cell_type": "code",
   "execution_count": null,
   "id": "1f925b3e",
   "metadata": {},
   "outputs": [],
   "source": []
  }
 ],
 "metadata": {
  "kernelspec": {
   "display_name": "Python 3 (ipykernel)",
   "language": "python",
   "name": "python3"
  },
  "language_info": {
   "codemirror_mode": {
    "name": "ipython",
    "version": 3
   },
   "file_extension": ".py",
   "mimetype": "text/x-python",
   "name": "python",
   "nbconvert_exporter": "python",
   "pygments_lexer": "ipython3",
   "version": "3.11.4"
  }
 },
 "nbformat": 4,
 "nbformat_minor": 5
}
