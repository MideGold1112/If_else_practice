{
 "cells": [
  {
   "cell_type": "code",
   "execution_count": 1,
   "id": "0a646ec7",
   "metadata": {},
   "outputs": [
    {
     "name": "stdout",
     "output_type": "stream",
     "text": [
      "Enter the year to check if its leap year or not2024\n",
      "the year is a leap year\n"
     ]
    }
   ],
   "source": [
    "year = int(input('Enter the year to check if its leap year or not'))\n",
    "if year %4 == 0: and the \n",
    "    print('the year is a leap year')\n",
    "else: \n",
    "    print('the year is not a leap year')\n"
   ]
  },
  {
   "cell_type": "code",
   "execution_count": null,
   "id": "33ed8b46",
   "metadata": {},
   "outputs": [],
   "source": []
  }
 ],
 "metadata": {
  "kernelspec": {
   "display_name": "Python 3 (ipykernel)",
   "language": "python",
   "name": "python3"
  },
  "language_info": {
   "codemirror_mode": {
    "name": "ipython",
    "version": 3
   },
   "file_extension": ".py",
   "mimetype": "text/x-python",
   "name": "python",
   "nbconvert_exporter": "python",
   "pygments_lexer": "ipython3",
   "version": "3.11.4"
  }
 },
 "nbformat": 4,
 "nbformat_minor": 5
}
