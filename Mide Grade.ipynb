{
 "cells": [
  {
   "cell_type": "code",
   "execution_count": 1,
   "id": "a65e8994",
   "metadata": {},
   "outputs": [
    {
     "name": "stdout",
     "output_type": "stream",
     "text": [
      "enter the grade number52\n",
      "D\n"
     ]
    }
   ],
   "source": [
    "number = int(input('enter the grade number'))\n",
    " \n",
    "if number > 90:\n",
    "    print('A')\n",
    "elif number > 80:\n",
    "    print('B')\n",
    "elif number >=60:\n",
    "    print('C')\n",
    "else:\n",
    "    print('D')\n"
   ]
  },
  {
   "cell_type": "code",
   "execution_count": null,
   "id": "1692c46d",
   "metadata": {},
   "outputs": [],
   "source": []
  }
 ],
 "metadata": {
  "kernelspec": {
   "display_name": "Python 3 (ipykernel)",
   "language": "python",
   "name": "python3"
  },
  "language_info": {
   "codemirror_mode": {
    "name": "ipython",
    "version": 3
   },
   "file_extension": ".py",
   "mimetype": "text/x-python",
   "name": "python",
   "nbconvert_exporter": "python",
   "pygments_lexer": "ipython3",
   "version": "3.11.4"
  }
 },
 "nbformat": 4,
 "nbformat_minor": 5
}
